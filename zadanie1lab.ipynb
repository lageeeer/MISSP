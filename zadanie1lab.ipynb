{
  "nbformat": 4,
  "nbformat_minor": 0,
  "metadata": {
    "colab": {
      "name": "zadanie1lab.ipynb",
      "provenance": [],
      "collapsed_sections": []
    },
    "kernelspec": {
      "name": "python3",
      "display_name": "Python 3"
    }
  },
  "cells": [
    {
      "cell_type": "code",
      "metadata": {
        "id": "plnvWImHgsGm"
      },
      "source": [
        "#### challenge 0.1\r\n",
        "\r\n",
        "zajecia = [\"wf\",\"informatyka\",\"relax\",\"mispy\",\"piateczek\"]\r\n",
        "\r\n",
        "dnityg= [\"Pon\",\"Wto\",\"Sro\",\"Czwar\",\"Pio\"]\r\n",
        "\r\n",
        "\r\n",
        "# wyprintuj zajecia od srody do piatku\r\n",
        "jest = 0\r\n",
        "\r\n",
        "for i in [0,1,2,3,4]:\r\n",
        "  if \"Sro\" in dnityg[i]:\r\n",
        "    jest = 1\r\n",
        "  if jest == 1:\r\n",
        "    print(dnityg[i],\" - \", zajecia[i])\r\n",
        "  else:\r\n",
        "    continue\r\n",
        "\r\n",
        "print(\"-----------------\")\r\n",
        "# wyprintuj oprocz srody\r\n",
        "\r\n",
        "for i in [0,1,2,3,4]:\r\n",
        "  if \"Sro\" in dnityg[i]:\r\n",
        "    continue\r\n",
        "  else:\r\n",
        "    print(dnityg[i],\" - \",zajecia[i])"
      ],
      "execution_count": null,
      "outputs": []
    },
    {
      "cell_type": "code",
      "metadata": {
        "id": "cuCSIqPPGCSE"
      },
      "source": [
        "#### challenge 0.2\r\n",
        "\r\n",
        "zajecia = [[\"wf\"],\r\n",
        "           [\"informatyka\", \"nauka czytania\"],\r\n",
        "           [\"relax\", \"jedzenie\"],\r\n",
        "           [\"mispy\",\"mispy w domu\"],\r\n",
        "           [\"piateczek\", \"praca domowa z mispow\", \"Ilovemispy\", \"mispy w czasie snu\"]\r\n",
        "          ]\r\n",
        "\r\n",
        "dnityg= [\"Pon\",\"Wto\",\"Sro\",\"Czwar\",\"Pio\"]\r\n",
        "\r\n",
        "# zdefiniuj funkcje ktora poda ile jest zajec danego dnia\r\n",
        "def ile_zajec(dzien,lista,):\r\n",
        "  print(\"w dziu: \",dzien,\" jest \",len(lista),\"zajęć\")\r\n",
        "for i in [0,1,2,3,4]:\r\n",
        " ile_zajec(dnityg[i],zajecia[i])\r\n",
        "\r\n",
        "print(\"-----------------\")\r\n",
        "# lista_zajec_z_dnia -> ile ich jest\r\n",
        "\r\n",
        "ile_zajec(dnityg[2],zajecia[2])\r\n",
        "print(\"-----------------\")\r\n",
        "# po\r\n",
        "# posortuj dni po najbardziej zajetych\r\n",
        "\r\n",
        "for i in [0,1,2,3,4]:\r\n",
        "  liczbazajec[i] = ((len(zajecia[i])),dnityg[i])\r\n",
        "sorted(liczbazajec)\r\n",
        "print(liczbazajec)\r\n",
        "print(\"-----------------\")\r\n",
        "\r\n",
        "\r\n",
        "\r\n",
        "#### challenge 0.3\r\n",
        "\r\n",
        "\r\n",
        "# napisz program ktory zdajdzie dzien z najwieksza iloscia mispow\r\n",
        "\r\n",
        "def ilemispow(dzien,zaj):\r\n",
        "  misp=0\r\n",
        "  for element in zaj:\r\n",
        "   if \"misp\" in element:\r\n",
        "    misp=misp+1\r\n",
        "  return (misp, dzien)\r\n",
        "\r\n",
        "\r\n",
        "najmisp = (0,\"przykladowy dzien\")\r\n",
        "for i in [0,1,2,3,4]:\r\n",
        "  if ilemispow(dnityg[i],zajecia[i]) > najmisp:\r\n",
        "    najmisp = ilemispow(dnityg[i],zajecia[i])\r\n",
        "\r\n",
        "\r\n",
        "print(najmisp)\r\n",
        "\r\n"
      ],
      "execution_count": null,
      "outputs": []
    }
  ]
}