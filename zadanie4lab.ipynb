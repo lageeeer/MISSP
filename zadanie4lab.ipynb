{
  "nbformat": 4,
  "nbformat_minor": 0,
  "metadata": {
    "colab": {
      "name": "zadanie4lab.ipynb",
      "provenance": []
    },
    "kernelspec": {
      "name": "python3",
      "display_name": "Python 3"
    }
  },
  "cells": [
    {
      "cell_type": "code",
      "metadata": {
        "id": "WSfFgJLgqqnW",
        "colab": {
          "base_uri": "https://localhost:8080/"
        },
        "outputId": "cdd979c7-6874-432a-bb5b-0ab9baaabc23"
      },
      "source": [
        "!pip install pulp\n"
      ],
      "execution_count": null,
      "outputs": [
        {
          "output_type": "stream",
          "text": [
            "Collecting pulp\n",
            "\u001b[?25l  Downloading https://files.pythonhosted.org/packages/14/c4/0eec14a0123209c261de6ff154ef3be5cad3fd557c084f468356662e0585/PuLP-2.4-py3-none-any.whl (40.6MB)\n",
            "\u001b[K     |████████████████████████████████| 40.6MB 97kB/s \n",
            "\u001b[?25hCollecting amply>=0.1.2\n",
            "  Downloading https://files.pythonhosted.org/packages/f3/c5/dfa09dd2595a2ab2ab4e6fa7bebef9565812722e1980d04b0edce5032066/amply-0.1.4-py3-none-any.whl\n",
            "Requirement already satisfied: docutils>=0.3 in /usr/local/lib/python3.6/dist-packages (from amply>=0.1.2->pulp) (0.16)\n",
            "Requirement already satisfied: pyparsing in /usr/local/lib/python3.6/dist-packages (from amply>=0.1.2->pulp) (2.4.7)\n",
            "Installing collected packages: amply, pulp\n",
            "Successfully installed amply-0.1.4 pulp-2.4\n"
          ],
          "name": "stdout"
        }
      ]
    },
    {
      "cell_type": "code",
      "metadata": {
        "id": "UcgSd_UMqqhc"
      },
      "source": [
        ""
      ],
      "execution_count": null,
      "outputs": []
    },
    {
      "cell_type": "code",
      "metadata": {
        "id": "ngVrIESlo7Mt",
        "colab": {
          "base_uri": "https://localhost:8080/"
        },
        "outputId": "1e61c127-3e8c-4ee1-d567-7e8173b27765"
      },
      "source": [
        "\n",
        "\n",
        "from pulp import *\n",
        "\n",
        "prob = LpProblem(\"ProdukcjaOkien\",LpMaximize)\n",
        "\n",
        "x1 = LpVariable(\"Aluminiowe\",lowBound=0,cat='Integer')\n",
        "x2 = LpVariable(\"Drewniane\",lowBound=0,cat='Integer')\n",
        "\n",
        "prob += 3*x1 + 5*x2, \"CzystyZysk\"\n",
        "\n",
        "prob += x1 <= 4,\"Factory1\"\n",
        "prob += 2*x2 <= 12,\"Factory2\"\n",
        "prob += 3*x1+2*x2 <= 18,\"Factory3\"\n",
        "\n",
        "prob.solve()\n",
        "\n",
        "print(\"Rozwiązanie\", LpStatus[prob.status])\n",
        "for v in prob.variables():\n",
        "  print(v.name,\"=\",v.varValue)\n",
        "print(\"Zysk =\", value(prob.objective)) \n",
        "\n",
        "\n"
      ],
      "execution_count": null,
      "outputs": [
        {
          "output_type": "stream",
          "text": [
            "Rozwiązanie Optimal\n",
            "Aluminiowe = 2.0\n",
            "Drewniane = 6.0\n",
            "Zysk = 36.0\n"
          ],
          "name": "stdout"
        }
      ]
    },
    {
      "cell_type": "code",
      "metadata": {
        "id": "Dtk3OasIqolc"
      },
      "source": [
        ""
      ],
      "execution_count": null,
      "outputs": []
    }
  ]
}