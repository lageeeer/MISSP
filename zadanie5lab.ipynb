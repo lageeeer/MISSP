{
  "nbformat": 4,
  "nbformat_minor": 0,
  "metadata": {
    "colab": {
      "name": "zadanie5lab.ipynb",
      "provenance": [],
      "collapsed_sections": []
    },
    "kernelspec": {
      "name": "python3",
      "display_name": "Python 3"
    }
  },
  "cells": [
    {
      "cell_type": "code",
      "metadata": {
        "id": "A05OYHnzcUvf",
        "colab": {
          "base_uri": "https://localhost:8080/"
        },
        "outputId": "e0302302-4b1d-4023-a49f-9ebbd7802ecb"
      },
      "source": [
        "!pip install pulp\n",
        "\n",
        "\n",
        "\n",
        "!sudo apt-get install coinor-cbc glpk-utils coinor-clp"
      ],
      "execution_count": null,
      "outputs": [
        {
          "output_type": "stream",
          "text": [
            "Requirement already satisfied: pulp in /usr/local/lib/python3.6/dist-packages (2.4)\n",
            "Requirement already satisfied: amply>=0.1.2 in /usr/local/lib/python3.6/dist-packages (from pulp) (0.1.4)\n",
            "Requirement already satisfied: docutils>=0.3 in /usr/local/lib/python3.6/dist-packages (from amply>=0.1.2->pulp) (0.16)\n",
            "Requirement already satisfied: pyparsing in /usr/local/lib/python3.6/dist-packages (from amply>=0.1.2->pulp) (2.4.7)\n",
            "Reading package lists... Done\n",
            "Building dependency tree       \n",
            "Reading state information... Done\n",
            "coinor-cbc is already the newest version (2.9.9+repack1-1).\n",
            "coinor-clp is already the newest version (1.16.11+repack1-1).\n",
            "glpk-utils is already the newest version (4.65-1).\n",
            "0 upgraded, 0 newly installed, 0 to remove and 13 not upgraded.\n"
          ],
          "name": "stdout"
        }
      ]
    },
    {
      "cell_type": "code",
      "metadata": {
        "id": "mOJBkv28KS-F"
      },
      "source": [
        ""
      ],
      "execution_count": null,
      "outputs": []
    },
    {
      "cell_type": "code",
      "metadata": {
        "id": "YtkdaL8rc_FI",
        "colab": {
          "base_uri": "https://localhost:8080/"
        },
        "outputId": "e0814efc-9c77-45d1-b286-b70af1095b5d"
      },
      "source": [
        "!pip install pandas\n"
      ],
      "execution_count": null,
      "outputs": [
        {
          "output_type": "stream",
          "text": [
            "Requirement already satisfied: pandas in /usr/local/lib/python3.6/dist-packages (1.1.5)\n",
            "Requirement already satisfied: numpy>=1.15.4 in /usr/local/lib/python3.6/dist-packages (from pandas) (1.19.5)\n",
            "Requirement already satisfied: python-dateutil>=2.7.3 in /usr/local/lib/python3.6/dist-packages (from pandas) (2.8.1)\n",
            "Requirement already satisfied: pytz>=2017.2 in /usr/local/lib/python3.6/dist-packages (from pandas) (2018.9)\n",
            "Requirement already satisfied: six>=1.5 in /usr/local/lib/python3.6/dist-packages (from python-dateutil>=2.7.3->pandas) (1.15.0)\n"
          ],
          "name": "stdout"
        }
      ]
    },
    {
      "cell_type": "code",
      "metadata": {
        "id": "PYKtYpCFdQF7"
      },
      "source": [
        "from pulp import *\n",
        "import pandas as pd\n"
      ],
      "execution_count": null,
      "outputs": []
    },
    {
      "cell_type": "code",
      "metadata": {
        "id": "S9CMee2JdYjV",
        "colab": {
          "base_uri": "https://localhost:8080/"
        },
        "outputId": "61f8551f-9b3c-4b22-9d0f-7441e3c2c03e"
      },
      "source": [
        "prob = LpProblem(\"Największy_prąd\",LpMaximize)\n",
        "\n",
        "U1 = LpVariable(\"U1\") \n",
        "U2 = LpVariable(\"U2\")\n",
        "U3 = LpVariable(\"U3\")\n",
        "I1 = LpVariable(\"I1\",0) #zakładamy jednokierukowy orzepływ prądu\n",
        "I2 = LpVariable(\"I2\",0)\n",
        "I3 = LpVariable(\"I3\",0)\n",
        "I4 = LpVariable(\"I4\",0)\n",
        "I5 = LpVariable(\"I5\",0)\n",
        "Imax = LpVariable(\"Imax\",0)\n",
        "\n",
        "prob += (I1+I2+I3+I4+I5)/3\n",
        "\n",
        "\n",
        "prob += I1*8 == U1 # prawo OHMA \n",
        "prob += I2*6 == U1\n",
        "prob += I3*4 == U2\n",
        "prob += I4*10 == U3\n",
        "prob += I5*8 == U3\n",
        "\n",
        "prob += I1 <= 2 # ograniczenia prądowe na rezystorach\n",
        "prob += I2 <= 3\n",
        "prob += I3 <= 4\n",
        "prob += I4 <= 2\n",
        "prob += I5 <= 2\n",
        "\n",
        "prob += I1 + I2 == I3 #prądowe prawo kirchoffa\n",
        "prob += I5 + I4 == I3\n",
        "\n",
        "\n",
        "prob.solve()\n",
        "\n",
        "print(\"Rozwiązanie\", LpStatus[prob.status])\n",
        "for v in prob.variables():\n",
        "  print(v.name,\"=\",v.varValue)\n",
        "print(\"Rozwiązanie =\", value(prob.objective)) "
      ],
      "execution_count": null,
      "outputs": [
        {
          "output_type": "stream",
          "text": [
            "Rozwiązanie Optimal\n",
            "I1 = 1.5428571\n",
            "I2 = 2.0571429\n",
            "I3 = 3.6\n",
            "I4 = 1.6\n",
            "I5 = 2.0\n",
            "U1 = 12.342857\n",
            "U2 = 14.4\n",
            "U3 = 16.0\n",
            "Rozwiązanie = 3.5999999999999996\n"
          ],
          "name": "stdout"
        }
      ]
    },
    {
      "cell_type": "code",
      "metadata": {
        "id": "XO7dPDZOnuXm",
        "colab": {
          "base_uri": "https://localhost:8080/"
        },
        "outputId": "366b9a13-3c60-4b40-df9f-057a04b5e9e3"
      },
      "source": [
        "prob = LpProblem(\"Najmniejsza_moc\",LpMinimize)\r\n",
        "\r\n",
        "I_1 = LpVariable(\"I1\",3,5) #zakładamy jednokierukowy orzepływ prądu\r\n",
        "I_2 = LpVariable(\"I2\",1,3)\r\n",
        "I_3 = LpVariable(\"I3\",1,3)\r\n",
        "I_4 = LpVariable(\"I4\",1,3)\r\n",
        "I_5 = LpVariable(\"I5\",3,5)\r\n",
        "\r\n",
        "Vol = [6,10,4,7,3]\r\n",
        "\r\n",
        "prob+= (I_1*Vol[0] + I_2*Vol[1] +I_3*Vol[2] +I_4*Vol[3] +I_5*Vol[4]),\"Moc\"\r\n",
        "\r\n",
        "prob+= I_1 == I_3 + I_4\r\n",
        "prob+= I_5 == I_3 + I_2\r\n",
        "prob+= I_5 +I_4 == I_1 + I_2\r\n",
        "\r\n",
        "prob.solve()\r\n",
        "i = 0\r\n",
        "print(\"Rozwiązanie\", LpStatus[prob.status])\r\n",
        "for v in prob.variables():\r\n",
        "  print(v,\"=\",v.varValue, \"mA  R\",i+1,\" = \",Vol[i]/v.varValue,\"kohm\")\r\n",
        "  i+=1\r\n",
        "print(\"Rozwiązanie =\", value(prob.objective)/1000,\"W\") \r\n",
        "\r\n",
        "\r\n"
      ],
      "execution_count": null,
      "outputs": [
        {
          "output_type": "stream",
          "text": [
            "Rozwiązanie Optimal\n",
            "I1 = 3.0 mA  R 1  =  2.0 kohm\n",
            "I2 = 1.0 mA  R 2  =  10.0 kohm\n",
            "I3 = 2.0 mA  R 3  =  2.0 kohm\n",
            "I4 = 1.0 mA  R 4  =  7.0 kohm\n",
            "I5 = 3.0 mA  R 5  =  1.0 kohm\n",
            "Rozwiązanie = 0.052 W\n"
          ],
          "name": "stdout"
        }
      ]
    }
  ]
}