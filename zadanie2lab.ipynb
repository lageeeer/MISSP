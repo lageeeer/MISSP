{
  "nbformat": 4,
  "nbformat_minor": 0,
  "metadata": {
    "colab": {
      "name": "zadanie2lab.ipynb",
      "provenance": [],
      "collapsed_sections": []
    },
    "kernelspec": {
      "name": "python3",
      "display_name": "Python 3"
    }
  },
  "cells": [
    {
      "cell_type": "code",
      "metadata": {
        "colab": {
          "base_uri": "https://localhost:8080/"
        },
        "id": "N-T0TVLoLJc2",
        "outputId": "0414cb07-66ab-43de-87f1-4a2ebdee0813"
      },
      "source": [
        "#\"Należy stworzyć klasę \\\"NumerTelefonu\\\" która ma następujące właściwości:\r\n",
        " #   \"- przy tworzeniu sprawdza czy podany numer jest właściwy (Polski), jeśli nie pisze zwraca błąd\r\n",
        "  #  \"- przy printowaniu to zwraca numer słownie, np.: \\\"jeden, pięć, siedem, zero\\\r\n",
        "   # \"- gdy wywołuję właściwość województwo, w przypadku numeru stacjonarnego zwraca województwo\r\n",
        "class NumerTelefonu():\r\n",
        "  numer = None\r\n",
        "  slownik_kierunkowy ={\r\n",
        "        12:\"Kraków\", 13:\"Krosno\", 14:\"Tarnów\", 15:\"Tarnobrzeg\", 16:\"Przemyśl\", 17:\"Rzeszów\", 18:\"Nowy Sącz\", 22:\"Warszawa\", 23:\"Ciechanów\", 24:\"Płock\",\r\n",
        "        25:\"Siedlce\", 29:\"Ostrołęka\", 32:\"Katowice\", 33:\"Bielsko-Biała\", 34:\"Częstochowa\", 41:\"Kielce\", 42:\"Łódź\", 43:\"Sieradz\", 44:\"Piotrków Trybunalski\", 46:\"Skierniewice\", 48:\"Radom\",\r\n",
        "        52:\"Bydgoszcz\", 54:\"Włocławek\", 55:\"Elbląg\", 56:\"Toruń\", 58:\"Gdańsk\", 59:\"Słupsk\", 61:\"Poznań\", 62:\"Kalisz\", 63:\"Konin\", 65:\"Leszno\", 67:\"Piła\", 68:\"Zielona Góra\", 71:\"Wrocław\",\r\n",
        "        74:\"Wałbrzych\", 75:\"Jelenia Góra\", 76:\"Legnica\", 77:\"Opole\", 81:\"Lublin\", 82:\"Chełm\", 83:\"Biała Podlaska\", 84:\"Zamość\", 85:\"Białystok\", 86:\"Łomża\", 87:\"Suwałki\", 89:\"Olsztyn\",\r\n",
        "        91:\"Szczecin\", 94:\"Koszalin\", 95:\"Gorzów Wielkopolski.\"}\r\n",
        "\r\n",
        "  słownik_do_liczb = [\"zero\",\"jeden\",\"dwa\",\"trzy\",\"cztery\",\"pięć\",\"sześć\",\"siedem\",\"osiem\",\"dziewięć\"]\r\n",
        "\r\n",
        "  odczyt_liczb = dict(para for para in enumerate(słownik_do_liczb))\r\n",
        "\r\n",
        "\r\n",
        "  def __init__(self, numer): \r\n",
        "        \r\n",
        "        nr = numer.replace(\" \", \"\")\r\n",
        "        nr = nr.replace(\"-\", \"\")\r\n",
        "        nr = nr.replace(\"+48\", \"\")\r\n",
        "        if len(str(nr)) == 9:\r\n",
        "            self.numer = nr\r\n",
        "            print(\"Prawidłowy numer\")\r\n",
        "        else:\r\n",
        "            print(\"Niewłaściwy numer\")\r\n",
        "  @property\r\n",
        "  def województwo(self):\r\n",
        "    print(\"kierunek: \", self.slownik_kierunkowy[int(self.numer[0:2])])\r\n",
        "\r\n",
        "  def __repr__(self):\r\n",
        "    return \" \".join(self.odczyt_liczb[int(cyfra)] for cyfra in self.numer)    \r\n",
        "    \r\n",
        "\r\n",
        "LeszNo = NumerTelefonu(\"+48 65 98 36 511\")\r\n",
        "LeszNo.województwo\r\n",
        "print(LeszNo)\r\n",
        "\r\n",
        " # def _repr_(self):\r\n"
      ],
      "execution_count": null,
      "outputs": [
        {
          "output_type": "stream",
          "text": [
            "Prawidłowy numer\n",
            "kierunek:  Leszno\n",
            "sześć pięć dziewięć osiem trzy sześć pięć jeden jeden\n"
          ],
          "name": "stdout"
        }
      ]
    }
  ]
}