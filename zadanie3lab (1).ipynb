{
  "nbformat": 4,
  "nbformat_minor": 0,
  "metadata": {
    "colab": {
      "name": "zadanie3lab.ipynb",
      "provenance": [],
      "collapsed_sections": []
    },
    "kernelspec": {
      "name": "python3",
      "display_name": "Python 3"
    }
  },
  "cells": [
    {
      "cell_type": "code",
      "metadata": {
        "colab": {
          "base_uri": "https://localhost:8080/"
        },
        "id": "RxjIKxhfrrTz",
        "outputId": "430788be-99a7-4753-fccf-352079859855"
      },
      "source": [
        "!pip install pulp\r\n"
      ],
      "execution_count": null,
      "outputs": [
        {
          "output_type": "stream",
          "text": [
            "Requirement already satisfied: pulp in /usr/local/lib/python3.6/dist-packages (2.4)\n",
            "Requirement already satisfied: amply>=0.1.2 in /usr/local/lib/python3.6/dist-packages (from pulp) (0.1.4)\n",
            "Requirement already satisfied: docutils>=0.3 in /usr/local/lib/python3.6/dist-packages (from amply>=0.1.2->pulp) (0.16)\n",
            "Requirement already satisfied: pyparsing in /usr/local/lib/python3.6/dist-packages (from amply>=0.1.2->pulp) (2.4.7)\n"
          ],
          "name": "stdout"
        }
      ]
    },
    {
      "cell_type": "code",
      "metadata": {
        "id": "h0wd3kBtrxsy"
      },
      "source": [
        "from pulp import *"
      ],
      "execution_count": null,
      "outputs": []
    },
    {
      "cell_type": "code",
      "metadata": {
        "id": "1Z-DTlXXtIYF",
        "colab": {
          "base_uri": "https://localhost:8080/"
        },
        "outputId": "109ca651-cebe-41b9-c56d-245992e4abd4"
      },
      "source": [
        "#przeczytaj materiały dotyczące pulp ze strony internetowej oraz przejdź przez blending problem (przepisz do swojego notebooka)\r\n",
        "#w blending problem dodaj zmienną decyzyjną. Stwórz zmienną która pojawi się w końcowym składzie produktu (tj. wartość zmiennej będzie miała niezerową postać)\r\n",
        "#Dodaj ograniczenie co do zawartości witaminy B\r\n",
        "\r\n",
        "\r\n",
        "prob = LpProblem(\"The Whiskas Problem\",LpMinimize)\r\n",
        "Ingredients = ['CHICKEN', 'BEEF', 'MUTTON', 'RICE', 'WHEAT', 'GEL', 'SEAFOOD']\r\n",
        "costs = {'CHICKEN': 0.013, \r\n",
        "         'BEEF': 0.008, \r\n",
        "         'MUTTON': 0.010, \r\n",
        "         'RICE': 0.002, \r\n",
        "         'WHEAT': 0.005, \r\n",
        "         'GEL': 0.001, \r\n",
        "         'SEAFOOD': 0.01}\r\n",
        "proteinPercent = {'CHICKEN': 0.100, \r\n",
        "                  'BEEF': 0.200, \r\n",
        "                  'MUTTON': 0.150, \r\n",
        "                  'RICE': 0.000, \r\n",
        "                  'WHEAT': 0.040, \r\n",
        "                  'GEL': 0.000, \r\n",
        "                  'SEAFOOD': 0.290}\r\n",
        "fatPercent = {'CHICKEN': 0.080, \r\n",
        "              'BEEF': 0.100, \r\n",
        "              'MUTTON': 0.110, \r\n",
        "              'RICE': 0.010, \r\n",
        "              'WHEAT': 0.010, \r\n",
        "              'GEL': 0.000, \r\n",
        "              'SEAFOOD': 0.08}\r\n",
        "fibrePercent = {'CHICKEN': 0.001, \r\n",
        "                'BEEF': 0.005, \r\n",
        "                'MUTTON': 0.003, \r\n",
        "                'RICE': 0.100, \r\n",
        "                'WHEAT': 0.150, \r\n",
        "                'GEL': 0.000, \r\n",
        "                'SEAFOOD': 0.00}\r\n",
        "saltPercent = {'CHICKEN': 0.002, \r\n",
        "               'BEEF': 0.005, \r\n",
        "               'MUTTON': 0.007, \r\n",
        "               'RICE': 0.002, \r\n",
        "               'WHEAT': 0.008, \r\n",
        "               'GEL': 0.000, \r\n",
        "               'SEAFOOD': 0.00}\r\n",
        "    \r\n",
        "Bvitamine = {'CHICKEN': 0.002, \r\n",
        "               'BEEF': 0.005, \r\n",
        "               'MUTTON': 0.00, \r\n",
        "               'RICE': 0.002, \r\n",
        "               'WHEAT': 0.001, \r\n",
        "               'GEL': 0.01, \r\n",
        "               'SEAFOOD': 0.00}\r\n",
        "\r\n",
        "ingredient_vars = LpVariable.dicts(\"Ingr\",Ingredients,0)\r\n",
        "prob += lpSum([ingredient_vars[i] for i in Ingredients]) == 100, \"PercentagesSum\"\r\n",
        "prob += lpSum([proteinPercent[i] * ingredient_vars[i] for i in Ingredients]) >= 17.0, \"ProteinRequirement\"\r\n",
        "prob += lpSum([fatPercent[i] * ingredient_vars[i] for i in Ingredients]) >= 14.0, \"FatRequirement\"\r\n",
        "prob += lpSum([fibrePercent[i] * ingredient_vars[i] for i in Ingredients]) <= 4.0, \"FibreRequirement\"\r\n",
        "prob += lpSum([saltPercent[i] * ingredient_vars[i] for i in Ingredients]) <= 0.6, \"SaltRequirement\"\r\n",
        "prob += lpSum([Bvitamine[i] * ingredient_vars[i] for i in Ingredients]) >= 0.01, \"BvitamineRequirement\"\r\n",
        "prob.solve()\r\n",
        "print(\"Status:\", LpStatus[prob.status])\r\n",
        "for v in prob.variables():\r\n",
        "    print(v.name, \"=\", v.varValue)\r\n",
        "      \r\n",
        "          "
      ],
      "execution_count": null,
      "outputs": [
        {
          "output_type": "stream",
          "text": [
            "Status: Infeasible\n",
            "Ingr_BEEF = 2.0\n",
            "Ingr_CHICKEN = 0.0\n",
            "Ingr_GEL = 0.0\n",
            "Ingr_MUTTON = 84.285714\n",
            "Ingr_RICE = 0.0\n",
            "Ingr_SEAFOOD = 13.714286\n",
            "Ingr_WHEAT = 0.0\n",
            "__dummy = None\n"
          ],
          "name": "stdout"
        },
        {
          "output_type": "stream",
          "text": [
            "/usr/local/lib/python3.6/dist-packages/pulp/pulp.py:1199: UserWarning: Spaces are not permitted in the name. Converted to '_'\n",
            "  warnings.warn(\"Spaces are not permitted in the name. Converted to '_'\")\n"
          ],
          "name": "stderr"
        }
      ]
    }
  ]
}